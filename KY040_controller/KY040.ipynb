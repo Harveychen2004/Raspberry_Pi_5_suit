{
 "cells": [
  {
   "cell_type": "code",
   "execution_count": 1,
   "id": "7349a80e-2d7a-4246-aeda-727578094c04",
   "metadata": {},
   "outputs": [],
   "source": [
    "from gpiozero import RotaryEncoder, Button\n",
    "from time import sleep\n",
    "import threading\n",
    "from TGS2620Sensor import TGS2620Sensor\n",
    "from MQ135Sensor import MQ135Sensor\n",
    "from MAX30102Sensor import MAX30102Sensor\n",
    "from MPU6050Sensor import MPU6050Sensor\n",
    "from CameraSensor import CameraSensor"
   ]
  },
  {
   "cell_type": "code",
   "execution_count": 2,
   "id": "bbd614c7-6b4e-4039-8465-51b008b040ff",
   "metadata": {},
   "outputs": [
    {
     "data": {
      "application/vnd.jupyter.widget-view+json": {
       "model_id": "22e20eca12dc432da59efa4cb072e8b8",
       "version_major": 2,
       "version_minor": 0
      },
      "text/plain": [
       "Image(value=b'', format='jpeg', height='480', width='640')"
      ]
     },
     "metadata": {},
     "output_type": "display_data"
    },
    {
     "name": "stderr",
     "output_type": "stream",
     "text": [
      "[0:10:05.505027540] [3919] \u001b[1;32m INFO \u001b[1;37mCamera \u001b[1;34mcamera_manager.cpp:284 \u001b[0mlibcamera v0.1.0+118-563cd78e\n",
      "[0:10:05.514140013] [3959] \u001b[1;32m INFO \u001b[1;37mRPI \u001b[1;34mpisp.cpp:653 \u001b[0mlibpisp version v1.0.2 fa44a258644a 22-11-2023 (21:59:22)\n",
      "[0:10:05.524189025] [3959] \u001b[1;32m INFO \u001b[1;37mRPI \u001b[1;34mpisp.cpp:1112 \u001b[0mRegistered camera /base/axi/pcie@120000/rp1/i2c@80000/imx708@1a to CFE device /dev/media0 and ISP device /dev/media2 using PiSP variant BCM2712_C0\n",
      "[0:10:05.526917040] [3919] \u001b[1;33m WARN \u001b[1;37mV4L2 \u001b[1;34mv4l2_pixelformat.cpp:338 \u001b[0mUnsupported V4L2 pixel format Y16 \n",
      "[0:10:05.526949471] [3919] \u001b[1;33m WARN \u001b[1;37mV4L2 \u001b[1;34mv4l2_pixelformat.cpp:338 \u001b[0mUnsupported V4L2 pixel format RGB6\n",
      "[0:10:05.526954212] [3919] \u001b[1;33m WARN \u001b[1;37mV4L2 \u001b[1;34mv4l2_pixelformat.cpp:338 \u001b[0mUnsupported V4L2 pixel format BGR6\n",
      "[0:10:05.526959991] [3919] \u001b[1;33m WARN \u001b[1;37mV4L2 \u001b[1;34mv4l2_pixelformat.cpp:338 \u001b[0mUnsupported V4L2 pixel format PC1M\n",
      "[0:10:05.527636771] [3919] \u001b[1;32m INFO \u001b[1;37mCamera \u001b[1;34mcamera.cpp:1183 \u001b[0mconfiguring streams: (0) 640x480-XRGB8888 (1) 1536x864-GRBG16_PISP_COMP1\n",
      "[0:10:05.527746935] [3959] \u001b[1;32m INFO \u001b[1;37mRPI \u001b[1;34mpisp.cpp:1396 \u001b[0mSensor: /base/axi/pcie@120000/rp1/i2c@80000/imx708@1a - Selected sensor format: 1536x864-SGRBG10_1X10 - Selected CFE format: 1536x864-PC1G\n",
      "WARNING: All log messages before absl::InitializeLog() is called are written to STDERR\n",
      "W0000 00:00:1750392102.286467    3919 face_landmarker_graph.cc:174] Sets FaceBlendshapesGraph acceleration to xnnpack by default.\n",
      "INFO: Created TensorFlow Lite XNNPACK delegate for CPU.\n"
     ]
    }
   ],
   "source": [
    "encoder = RotaryEncoder(a=6, b=5)  # CLK连接GPIO6，DT连接GPIO5\n",
    "button = Button(12)                  # SW连接 GPIO12\n",
    "globalCounter = 0          # 计数器值\n",
    "tmp = 0\t                # 当前状态判断\n",
    "\n",
    "# 模式列表\n",
    "TGS2620 = TGS2620Sensor()\n",
    "MQ135 = MQ135Sensor()\n",
    "MAX30102 = MAX30102Sensor()\n",
    "MPU6050 = MPU6050Sensor()\n",
    "CAMERA = CameraSensor()\n",
    "\n",
    "def do_nothing():\n",
    "    pass\n",
    "\n",
    "modes = [\"CAMERA\",\"MPU6050\", \"MAX30102\", \"MQ135\", \"TGS2620\", \"Start All\", \"Shut Down All\"]\n",
    "start_modes = [\"Start CAMERA\",\"Start MPU6050\", \"Start MAX30102\", \"Start MQ135\", \"Start TGS2620\", \"Start All\", \"Shut Down All\"]\n",
    "run_modes = [CAMERA.run, MPU6050.run, MAX30102.run, MQ135.run, TGS2620.run, do_nothing, None]\n",
    "stop_modes = [CAMERA.stop, MPU6050.stop, MAX30102.stop, MQ135.stop, TGS2620.stop, None, do_nothing]\n",
    "threads = {}\n",
    "\n",
    "# 旋转编码方向位判断函数\n",
    "def rotaryDeal():\n",
    "    global globalCounter\n",
    "    global tmp\n",
    "    globalCounter += encoder.steps  # 根据编码器步骤调整计数器\n",
    "    encoder.steps = 0 # 更新计数器后重置编码器步骤\n",
    "    if tmp != globalCounter: # 判断状态值发生改变\n",
    "        mode_index = globalCounter % len(modes)\n",
    "        print (f\"Mode: {modes[mode_index]}\") # 打印出状态信息\n",
    "        tmp = globalCounter    #  把当前状态赋值到下一个状态，避免重复打印\n",
    "\n",
    "# 中间按键按下响应程序\n",
    "def btnISR():\n",
    "    mode_index = globalCounter % len(start_modes)\n",
    "    # print(f\"Confirm Mode: {start_modes[mode_index]}\")\n",
    "    sleep(0.5)\n",
    "\n",
    "    if stop_modes[mode_index] == None:\n",
    "        for i in range(0, len(modes)-2):\n",
    "            if i not in threads or not threads[i].is_alive():\n",
    "                thread = threading.Thread(target=run_modes[i], daemon=True)\n",
    "                threads[i] = thread\n",
    "                thread.start()\n",
    "                print(start_modes[i])\n",
    "                sleep(0.5)            \n",
    "    elif run_modes[mode_index] == None:\n",
    "        for i in range(0, len(modes)-2):\n",
    "            if i in threads and threads[i].is_alive():\n",
    "                print(f\"{modes[i]} is already running\")\n",
    "                stop_modes[i]()\n",
    "                threads[i].join()\n",
    "                print(f\"{modes[i]} killed\")\n",
    "                sleep(0.5) \n",
    "    else:\n",
    "        if mode_index not in threads or not threads[mode_index].is_alive():\n",
    "            thread = threading.Thread(target=run_modes[mode_index], daemon=True)\n",
    "            threads[mode_index] = thread\n",
    "            thread.start()\n",
    "            print(start_modes[mode_index])\n",
    "            sleep(0.5)\n",
    "        else:\n",
    "            print(f\"{modes[mode_index]} is already running\")\n",
    "            stop_modes[mode_index]()\n",
    "            threads[mode_index].join()\n",
    "            print(f\"{modes[mode_index]} killed\")\n",
    "            sleep(0.5)\n",
    "\n",
    "# 按键按下中断响应程序\n",
    "button.when_pressed = btnISR"
   ]
  },
  {
   "cell_type": "code",
   "execution_count": 3,
   "id": "dc644592-254a-4709-a16d-daceff88dd65",
   "metadata": {
    "scrolled": true
   },
   "outputs": [
    {
     "name": "stdout",
     "output_type": "stream",
     "text": [
      "Mode: MPU6050\n",
      "Mode: MAX30102\n",
      "Mode: MQ2\n",
      "Mode: TGS2620\n",
      "Mode: Start All\n",
      "Mode: Shut Down All\n",
      "Mode: CAMERA\n",
      "Start CAMERA\n"
     ]
    },
    {
     "name": "stderr",
     "output_type": "stream",
     "text": [
      "Exception in thread Thread-11 (run):\n",
      "Traceback (most recent call last):\n",
      "  File \"/usr/lib/python3.11/threading.py\", line 1038, in _bootstrap_inner\n",
      "    self.run()\n",
      "  File \"/usr/lib/python3.11/threading.py\", line 975, in run\n",
      "    self._target(*self._args, **self._kwargs)\n",
      "  File \"/home/pi/makerobo_code/sensor_code/control/CameraSensor.py\", line 209, in run\n",
      "    self.update_servo(x, y, w, h)\n",
      "  File \"/home/pi/makerobo_code/sensor_code/control/CameraSensor.py\", line 103, in update_servo\n",
      "    self.kit.servo[10].angle = 220 - self.pan\n",
      "    ^^^^^^^^^^^^^^^^^^^^^^^^\n",
      "  File \"/usr/local/lib/python3.11/dist-packages/adafruit_motor/servo.py\", line 137, in angle\n",
      "    raise ValueError(\"Angle out of range\")\n",
      "ValueError: Angle out of range\n"
     ]
    },
    {
     "name": "stdout",
     "output_type": "stream",
     "text": [
      "Blendshapes data saved to data/Camera.csv\n"
     ]
    }
   ],
   "source": [
    "if __name__ == '__main__':\n",
    "    try:\n",
    "        while True:\n",
    "            rotaryDeal()  # 更新编码器值\n",
    "            sleep(0.01)             # 短延迟，降低CPU负载\n",
    "    except KeyboardInterrupt:\n",
    "        pass"
   ]
  }
 ],
 "metadata": {
  "kernelspec": {
   "display_name": "Python 3 (ipykernel)",
   "language": "python",
   "name": "python3"
  },
  "language_info": {
   "codemirror_mode": {
    "name": "ipython",
    "version": 3
   },
   "file_extension": ".py",
   "mimetype": "text/x-python",
   "name": "python",
   "nbconvert_exporter": "python",
   "pygments_lexer": "ipython3",
   "version": "3.11.2"
  }
 },
 "nbformat": 4,
 "nbformat_minor": 5
}
