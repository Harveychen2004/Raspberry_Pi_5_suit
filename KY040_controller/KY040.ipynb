{
 "cells": [
  {
   "cell_type": "code",
   "execution_count": 1,
   "id": "7349a80e-2d7a-4246-aeda-727578094c04",
   "metadata": {},
   "outputs": [],
   "source": [
    "from gpiozero import RotaryEncoder, Button\n",
    "from time import sleep\n",
    "import threading\n",
    "from TGS2620Sensor import TGS2620Sensor\n",
    "from MQ2Sensor import MQ2Sensor\n",
    "from MAX30102Sensor import MAX30102Sensor\n",
    "from MPU6050Sensor import MPU6050Sensor"
   ]
  },
  {
   "cell_type": "code",
   "execution_count": 2,
   "id": "39044a81-699d-4c4b-ae4e-64d69c8eea3f",
   "metadata": {},
   "outputs": [],
   "source": [
    "encoder = RotaryEncoder(a=6, b=5)  # CLK连接GPIO6，DT连接GPIO5\n",
    "button = Button(12)                # SW连接 GPIO12\n",
    "globalCounter = 0                  # 计数器值\n",
    "tmp = 0                            # 当前状态判断\n",
    "threads = {}                       # 线程字典\n",
    "\n",
    "# 模式列表\n",
    "TGS2620 = TGS2620Sensor()\n",
    "MQ2 = MQ2Sensor()\n",
    "MAX30102 = MAX30102Sensor()\n",
    "MPU6050 = MPU6050Sensor()\n",
    "modes = [\"MPU6050\", \"MAX30102\", \"MQ2\", \"TGS2620\", \"Start All\", \"Shut Down All\"]\n",
    "start_modes = [\"Start MPU6050\", \"Start MAX30102\", \"Start MQ2\", \"Start TGS2620\", \"Start All\", \"Shut Down All\"]\n",
    "run_modes = [MPU6050.run, MAX30102.run, MQ2.run, TGS2620.run, None, None]\n",
    "stop_modes = [MPU6050.stop, MAX30102.stop, MQ2.stop, TGS2620.stop, None, None]"
   ]
  },
  {
   "cell_type": "code",
   "execution_count": 3,
   "id": "1e8d902f-de4d-49dd-a129-7af5cef7c937",
   "metadata": {},
   "outputs": [],
   "source": [
    "# 旋转编码方向位判断函数\n",
    "def rotaryDeal():\n",
    "    global globalCounter\n",
    "    global tmp\n",
    "    globalCounter += encoder.steps  # 根据编码器步骤调整计数器\n",
    "    encoder.steps = 0  # 更新计数器后重置编码器步骤\n",
    "    if tmp != globalCounter:  # 判断状态值发生改变\n",
    "        mode_index = globalCounter % len(modes)\n",
    "        print(f\"Mode: {modes[mode_index]}\")  # 打印出状态信息\n",
    "        tmp = globalCounter  # 把当前状态赋值到下一个状态，避免重复打印\n",
    "\n",
    "# 中间按键按下响应程序\n",
    "def btnISR():\n",
    "    global threads\n",
    "    mode_index = globalCounter % len(start_modes)\n",
    "    print(f\"Confirm Mode: {start_modes[mode_index]}\")\n",
    "\n",
    "    if run_modes[mode_index] and stop_modes[mode_index]:\n",
    "        if mode_index not in threads or not threads[mode_index].is_alive():\n",
    "            thread = threading.Thread(target=run_modes[mode_index], daemon=True)\n",
    "            threads[mode_index] = thread\n",
    "            thread.start()\n",
    "            print(start_modes[mode_index])\n",
    "        else:\n",
    "            print(f\"{modes[mode_index]} is already running\")\n",
    "            stop_modes[mode_index]()\n",
    "            threads[mode_index].join()\n",
    "            print(f\"{modes[mode_index]} killed\")\n",
    "\n",
    "    sleep(1)  # 防抖\n",
    "\n",
    "# 按键按下中断响应程序\n",
    "button.when_pressed = btnISR"
   ]
  },
  {
   "cell_type": "code",
   "execution_count": 4,
   "id": "dc644592-254a-4709-a16d-daceff88dd65",
   "metadata": {},
   "outputs": [],
   "source": [
    "if __name__ == '__main__':\n",
    "    try:\n",
    "        while True:\n",
    "            rotaryDeal()  # 更新编码器值\n",
    "            sleep(0.01)   # 短延迟，降低CPU负载\n",
    "    except KeyboardInterrupt:\n",
    "        print(threads)\n",
    "        pass"
   ]
  }
 ],
 "metadata": {
  "kernelspec": {
   "display_name": "Python 3 (ipykernel)",
   "language": "python",
   "name": "python3"
  },
  "language_info": {
   "codemirror_mode": {
    "name": "ipython",
    "version": 3
   },
   "file_extension": ".py",
   "mimetype": "text/x-python",
   "name": "python",
   "nbconvert_exporter": "python",
   "pygments_lexer": "ipython3",
   "version": "3.11.2"
  }
 },
 "nbformat": 4,
 "nbformat_minor": 5
}
