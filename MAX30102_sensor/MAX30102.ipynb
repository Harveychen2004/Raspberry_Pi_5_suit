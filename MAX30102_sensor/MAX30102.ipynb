{
 "cells": [
  {
   "cell_type": "markdown",
   "id": "0a988446-fe33-4126-a8ab-2554ad33c869",
   "metadata": {},
   "source": [
    "1. Import Dependencies"
   ]
  },
  {
   "cell_type": "code",
   "execution_count": 1,
   "id": "ab8c3c48-b6f6-4be9-a24a-6e3ad047401b",
   "metadata": {},
   "outputs": [],
   "source": [
    "from heartrate_monitor import HeartRateMonitor\n",
    "import time\n",
    "import pandas as pd"
   ]
  },
  {
   "cell_type": "markdown",
   "id": "2202aab5-e3b5-4bb0-a067-033335246b10",
   "metadata": {},
   "source": [
    "2. Initialize Equipments"
   ]
  },
  {
   "cell_type": "code",
   "execution_count": 2,
   "id": "ea41380f-088c-4f2c-b2c9-b2e4ddd056ec",
   "metadata": {},
   "outputs": [
    {
     "name": "stdout",
     "output_type": "stream",
     "text": [
      "Mission starting...\n"
     ]
    }
   ],
   "source": [
    "print(\"Mission starting...\")\n",
    "durationtime=10\n",
    "max30102=HeartRateMonitor(print_raw=False, print_result=True)"
   ]
  },
  {
   "cell_type": "markdown",
   "id": "6ae7ec84-0584-45a1-a74e-a07aa2103968",
   "metadata": {},
   "source": [
    "3. Main Function"
   ]
  },
  {
   "cell_type": "code",
   "execution_count": 3,
   "id": "2a488b09-f688-4378-bd40-a19f4ce33e45",
   "metadata": {},
   "outputs": [
    {
     "name": "stdout",
     "output_type": "stream",
     "text": [
      "Mission Complete\n"
     ]
    }
   ],
   "source": [
    "if __name__==\"__main__\":\n",
    "    max30102.start_sensor()\n",
    "    try:\n",
    "        time.sleep(durationtime)\n",
    "    except KeyboardInterrupt:\n",
    "        print(\"Mission cease\")\n",
    "    max30102.stop_sensor()\n",
    "    sensor_data=max30102.get_data()\n",
    "    df=pd.DataFrame(sensor_data)\n",
    "    df.to_excel(\"MAX30102.xlsx\", index=False)\n",
    "    print(\"Mission Complete\")"
   ]
  }
 ],
 "metadata": {
  "kernelspec": {
   "display_name": "Python 3 (ipykernel)",
   "language": "python",
   "name": "python3"
  },
  "language_info": {
   "codemirror_mode": {
    "name": "ipython",
    "version": 3
   },
   "file_extension": ".py",
   "mimetype": "text/x-python",
   "name": "python",
   "nbconvert_exporter": "python",
   "pygments_lexer": "ipython3",
   "version": "3.11.2"
  }
 },
 "nbformat": 4,
 "nbformat_minor": 5
}
