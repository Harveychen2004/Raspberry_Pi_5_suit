{
 "cells": [
  {
   "cell_type": "markdown",
   "id": "f5f58331-df2f-409c-b08b-1401a5100a80",
   "metadata": {},
   "source": [
    "## 1.Import dependencies"
   ]
  },
  {
   "cell_type": "code",
   "execution_count": 1,
   "id": "83db1301-789c-4820-af1b-3a55d0b03465",
   "metadata": {},
   "outputs": [],
   "source": [
    "from gpiozero import Button,MCP3008\n",
    "from gpiozero.tools import absoluted, scaled\n",
    "from signal import pause\n",
    "import time\n",
    "import pandas as pd"
   ]
  },
  {
   "cell_type": "markdown",
   "id": "bf81ed90-ea51-4447-b522-85494d089b54",
   "metadata": {},
   "source": [
    "## 2.Instance pins"
   ]
  },
  {
   "cell_type": "code",
   "execution_count": 2,
   "id": "20561d89-e334-41e0-9358-07f9b385ffdd",
   "metadata": {},
   "outputs": [],
   "source": [
    "makerobo_DO = Button(16)                              # 烟雾传感器数字IO口\n",
    "makerobo_GasPin = MCP3008(channel=0)                # 定义烟雾传感器使用通道"
   ]
  },
  {
   "cell_type": "markdown",
   "id": "b4011d49-9fce-4c5f-8b2e-3bea6104761c",
   "metadata": {},
   "source": [
    "## 3.Alarm（DO）"
   ]
  },
  {
   "cell_type": "code",
   "execution_count": 3,
   "id": "d0113048-3382-4367-ac6b-fd91dc126180",
   "metadata": {},
   "outputs": [],
   "source": [
    "# 打印信息，打印出是否检测到烟雾信息\n",
    "def makerobo_Print(x):\n",
    "\tif x == 1:     # 安全\n",
    "\t\tprint ('')\n",
    "\t\tprint ('   ******************')\n",
    "\t\tprint ('   * Makerobo Safe~ *')\n",
    "\t\tprint ('   ******************')\n",
    "\t\tprint ('')\n",
    "\tif x == 0:    # 检测到烟雾\n",
    "\t\tprint ('')\n",
    "\t\tprint ('   ************************')\n",
    "\t\tprint ('   * Makerobo Danger Gas! *')\n",
    "\t\tprint ('   ************************')\n",
    "\t\tprint ('')"
   ]
  },
  {
   "cell_type": "markdown",
   "id": "9e8dc3b8-858e-4434-8062-f44edb629870",
   "metadata": {},
   "source": [
    "## 3.Define function"
   ]
  },
  {
   "cell_type": "code",
   "execution_count": 4,
   "id": "660f4219-a6c7-4511-a918-14be8f04e8ee",
   "metadata": {},
   "outputs": [],
   "source": [
    "def MAP(x, in_min, in_max, out_min, out_max):\n",
    "    return (x - in_min) * (out_max - out_min) / (in_max - in_min) + out_min\n",
    "\n",
    "# 循环函数\n",
    "def makerobo_loop():\n",
    "    data = []\n",
    "    state = [\"Dangerous\", \"Safe\"]\n",
    "    makerobo_status = 1   # 定义状态值变量\n",
    "    makerobo_count = 0    # 定义计数器变量值\n",
    "    try:    # 无限循环\n",
    "        while True:\n",
    "            current_time = time.strftime('%Y-%m-%d %H:%M:%S', time.localtime())\n",
    "            \n",
    "            makerobo_Gasval = makerobo_GasPin.value\n",
    "            makerobo_tmpval = round(MAP(makerobo_Gasval,0,1,0,255))                     # 读取AIN0上的模拟值\n",
    "            print ('Gas Value: ', makerobo_tmpval)                                    # 读取AIN0的值，获取光敏模拟量值\n",
    "            \n",
    "            makerobo_tmp = not makerobo_DO.is_pressed  # 读取GAS烟雾传感器数字IO口值\n",
    "            if makerobo_tmp != makerobo_status:     # 判断状态发生改变\n",
    "                makerobo_Print(makerobo_tmp)        # 打印函数，打印出烟雾传感器信息\n",
    "                makerobo_status = makerobo_tmp      # 把当前状态值设置为比较状态值，避免重复打印；\n",
    "            if makerobo_status == 0:                # 当检测到烟雾\n",
    "                makerobo_count += 1                 # 计数器值累计\n",
    "            else:\n",
    "                makerobo_count = 0                  # 计数器赋0s\n",
    "                \n",
    "            data.append({'Time': current_time, \"Initial Gas Value\" : makerobo_Gasval, \"Processed Gas Value\" : makerobo_tmpval, \"State\" : state[makerobo_status], \"Warning time period(s)\" : makerobo_count})\n",
    "            time.sleep(1)# 延时1s\n",
    "    except KeyboardInterrupt:\n",
    "        df = pd.DataFrame(data)\n",
    "        df.to_excel(\"MQ2_data.xlsx\", index=False)\n"
   ]
  },
  {
   "cell_type": "markdown",
   "id": "04b01200-b8f4-4906-9fef-ee5921375822",
   "metadata": {},
   "source": [
    "## 4.Main function"
   ]
  },
  {
   "cell_type": "code",
   "execution_count": 5,
   "id": "45e18609-d482-4008-9b7f-64ee3599f522",
   "metadata": {},
   "outputs": [
    {
     "name": "stdout",
     "output_type": "stream",
     "text": [
      "Gas Value:  11\n",
      "Gas Value:  11\n",
      "Gas Value:  11\n",
      "Gas Value:  11\n",
      "Gas Value:  11\n",
      "Gas Value:  12\n",
      "Gas Value:  11\n",
      "Gas Value:  11\n",
      "Gas Value:  11\n",
      "Gas Value:  12\n",
      "Gas Value:  11\n",
      "Gas Value:  11\n",
      "Gas Value:  11\n",
      "Gas Value:  11\n"
     ]
    }
   ],
   "source": [
    "# 程序入口\n",
    "if __name__ == '__main__':\t\t\n",
    "\ttry:\n",
    "\t\tmakerobo_loop() # 调用循环函数\n",
    "\texcept KeyboardInterrupt:  \t# 当按下Ctrl+C时，将执行destroy()子程序。\n",
    "\t\tprint(\"Exit\")  #资源释放\n"
   ]
  }
 ],
 "metadata": {
  "kernelspec": {
   "display_name": "Python 3 (ipykernel)",
   "language": "python",
   "name": "python3"
  },
  "language_info": {
   "codemirror_mode": {
    "name": "ipython",
    "version": 3
   },
   "file_extension": ".py",
   "mimetype": "text/x-python",
   "name": "python",
   "nbconvert_exporter": "python",
   "pygments_lexer": "ipython3",
   "version": "3.11.2"
  }
 },
 "nbformat": 4,
 "nbformat_minor": 5
}
